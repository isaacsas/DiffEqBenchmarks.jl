{
  "cells": [
    {
      "cell_type": "markdown",
      "source": [
        "# Diffusion Model\n### Samuel Isaacson, Chris Rackauckas"
      ],
      "metadata": {}
    },
    {
      "outputs": [],
      "cell_type": "code",
      "source": [
        "using DifferentialEquations, Plots, Statistics, DiffEqProblemLibrary.JumpProblemLibrary\ngr()\nfmt = :svg\nJumpProblemLibrary.importjumpproblems()"
      ],
      "metadata": {},
      "execution_count": null
    },
    {
      "cell_type": "markdown",
      "source": [
        "# Model and example solutions\nHere we implement a 1D continuous time random walk approximation of diffusion for $N$ lattice sites, with reflecting boundary conditions"
      ],
      "metadata": {}
    },
    {
      "outputs": [],
      "cell_type": "code",
      "source": [
        "N = 256\njprob = prob_jump_diffnetwork\nrn = jprob.network(N)\nrnpar = jprob.rates\nu0 = jprob.u0(N)\ntf = 100. #jprob.tstop"
      ],
      "metadata": {},
      "execution_count": null
    },
    {
      "outputs": [],
      "cell_type": "code",
      "source": [
        "methods = (Direct(),DirectFW(),SortingDirect(),NRM(),DirectCR(),RSSA())\nlegs    = [typeof(method) for method in methods]\nshortlabels = [string(leg)[12:end] for leg in legs]\nprob    = prob = DiscreteProblem(u0, (0.0, tf), rnpar)\nploth   = plot(reuse=false)\nfor (i,method) in enumerate(methods)\n    jump_prob = JumpProblem(prob, method, rn, save_positions=(false,false))\n    sol = solve(jump_prob, SSAStepper(), saveat=tf/1000.)\n    plot!(ploth,sol.t,sol[Int(N//2),:],label=shortlabels[i], format=fmt)\nend\nplot!(ploth, title=\"Population at middle lattice site\", xlabel=\"time\",format=fmt)"
      ],
      "metadata": {},
      "execution_count": null
    },
    {
      "cell_type": "markdown",
      "source": [
        "# Benchmarking performance of the methods"
      ],
      "metadata": {}
    },
    {
      "outputs": [],
      "cell_type": "code",
      "source": [
        "function run_benchmark!(t, jump_prob, stepper)\n    sol = solve(jump_prob, stepper)\n    @inbounds for i in 1:length(t)\n        t[i] = @elapsed (sol = solve(jump_prob, stepper))\n    end\nend"
      ],
      "metadata": {},
      "execution_count": null
    },
    {
      "outputs": [],
      "cell_type": "code",
      "source": [
        "nsims = 50\nbenchmarks = Vector{Vector{Float64}}()\nfor method in methods\n    jump_prob = JumpProblem(prob, method, rn, save_positions=(false,false))\n    stepper = SSAStepper()\n    t = Vector{Float64}(undef,nsims)\n    run_benchmark!(t, jump_prob, stepper)\n    push!(benchmarks, t)\nend"
      ],
      "metadata": {},
      "execution_count": null
    },
    {
      "outputs": [],
      "cell_type": "code",
      "source": [
        "medtimes = Vector{Float64}(undef,length(methods))\nstdtimes = Vector{Float64}(undef,length(methods))\navgtimes = Vector{Float64}(undef,length(methods))\nfor i in 1:length(methods)\n    medtimes[i] = median(benchmarks[i])\n    avgtimes[i] = mean(benchmarks[i])\n    stdtimes[i] = std(benchmarks[i])\nend\nusing DataFrames\n\ndf = DataFrame(names=shortlabels,medtimes=medtimes,relmedtimes=(medtimes/medtimes[1]),\n                avgtimes=avgtimes, std=stdtimes, cv=stdtimes./avgtimes)"
      ],
      "metadata": {},
      "execution_count": null
    },
    {
      "cell_type": "markdown",
      "source": [
        "# Plotting"
      ],
      "metadata": {}
    },
    {
      "outputs": [],
      "cell_type": "code",
      "source": [
        "sa = [string(round(mt,digits=4),\"s\") for mt in df.medtimes]\nbar(df.names,df.relmedtimes,legend=:false, fmt=fmt)\nscatter!(df.names, .025 .+df.relmedtimes, markeralpha=0, series_annotations=sa, fmt=fmt)\nylabel!(\"median relative to Direct\")\ntitle!(\"256 Site 1D Diffusion CTRW\")"
      ],
      "metadata": {},
      "execution_count": null
    },
    {
      "outputs": [],
      "cell_type": "code",
      "source": [
        "using DiffEqBenchmarks\nDiffEqBenchmarks.bench_footer(WEAVE_ARGS[:folder],WEAVE_ARGS[:file])"
      ],
      "metadata": {},
      "execution_count": null
    }
  ],
  "nbformat_minor": 2,
  "metadata": {
    "language_info": {
      "file_extension": ".jl",
      "mimetype": "application/julia",
      "name": "julia",
      "version": "1.1.0"
    },
    "kernelspec": {
      "name": "julia-1.1",
      "display_name": "Julia 1.1.0",
      "language": "julia"
    }
  },
  "nbformat": 4
}
