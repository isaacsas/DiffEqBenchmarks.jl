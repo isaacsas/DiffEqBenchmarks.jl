{
  "cells": [
    {
      "cell_type": "markdown",
      "source": [
        "Taken from Gupta and Mendes, *An Overview of Network-Based and -Free Approaches for Stochastic Simulation of Biochemical Systems*, Computation, 6 (9), 2018.\n# Mendes Multistate Model\n### Samuel Isaacson, Chris Rackauckas"
      ],
      "metadata": {}
    },
    {
      "outputs": [],
      "cell_type": "code",
      "source": [
        "using DifferentialEquations, DiffEqProblemLibrary.JumpProblemLibrary, Plots, Statistics\ngr()\nfmt = :svg\nJumpProblemLibrary.importjumpproblems()"
      ],
      "metadata": {},
      "execution_count": null
    },
    {
      "cell_type": "markdown",
      "source": [
        "# Plot solutions by each method"
      ],
      "metadata": {}
    },
    {
      "outputs": [],
      "cell_type": "code",
      "source": [
        "methods = (Direct(),DirectFW(),FRM(),FRMFW(),SortingDirect(),NRM(),DirectCR(),RSSA())\nlegs    = [typeof(method) for method in methods]\n#shortlabels = [string(leg)[12:end] for leg in legs]\nshortlabels = [string(leg) for leg in legs]\njprob   = prob_jump_multistate\ntf      = 10.0*jprob.tstop\nrn      = jprob.network\n#prob    = jprob.discrete_prob\nprob = DiscreteProblem(jprob.u0, (0.0,tf), jprob.rates)\nvarlegs = [\"A_P\", \"A_bound_P\", \"A_unbound_P\", \"RLA_P\"]\nvarsyms = [\n    [:S7,:S8,:S9],\n    [:S9],\n    [:S7,:S8],\n    [:S7]\n]\nvaridxs = []\nfmt = :png\nfor vars in varsyms\n    push!(varidxs, [findfirst(x -> x==sym, rn.syms) for sym in vars])\nend"
      ],
      "metadata": {},
      "execution_count": null
    },
    {
      "outputs": [],
      "cell_type": "code",
      "source": [
        "p = []\nfor (i,method) in enumerate(methods)\n    jump_prob = JumpProblem(prob, method, rn, save_positions=(false,false))\n    sol = solve(jump_prob, SSAStepper(), saveat=tf/1000.)\n    solv = zeros(1001,4)\n    for (i,varidx) in enumerate(varidxs)\n        solv[:,i] = sum(sol[varidx,:],dims=1)\n    end\n    if i < length(methods)\n        push!(p, plot(sol.t,solv,title=shortlabels[i],legend=false,format=fmt))\n    else\n        push!(p, plot(sol.t,solv,title=shortlabels[i],legend=true,labels=varlegs,format=fmt))\n    end\nend\nplot(p...,format=fmt)"
      ],
      "metadata": {},
      "execution_count": null
    },
    {
      "cell_type": "markdown",
      "source": [
        "# Benchmarking performance of the methods"
      ],
      "metadata": {}
    },
    {
      "outputs": [],
      "cell_type": "code",
      "source": [
        "function run_benchmark!(t, jump_prob, stepper)\n    sol = solve(jump_prob, stepper)\n    @inbounds for i in 1:length(t)\n        t[i] = @elapsed (sol = solve(jump_prob, stepper))\n    end\nend"
      ],
      "metadata": {},
      "execution_count": null
    },
    {
      "outputs": [],
      "cell_type": "code",
      "source": [
        "nsims = 100\nbenchmarks = Vector{Vector{Float64}}()\nfor method in methods\n    println(\"Benchmarking method: \", method)\n    jump_prob = JumpProblem(prob, method, rn, save_positions=(false,false))\n    stepper = SSAStepper()\n    t = Vector{Float64}(undef,nsims)\n    run_benchmark!(t, jump_prob, stepper)\n    push!(benchmarks, t)\nend"
      ],
      "metadata": {},
      "execution_count": null
    },
    {
      "outputs": [],
      "cell_type": "code",
      "source": [
        "medtimes = Vector{Float64}(undef,length(methods))\nstdtimes = Vector{Float64}(undef,length(methods))\navgtimes = Vector{Float64}(undef,length(methods))\nfor i in 1:length(methods)\n    medtimes[i] = median(benchmarks[i])\n    avgtimes[i] = mean(benchmarks[i])\n    stdtimes[i] = std(benchmarks[i])\nend\nusing DataFrames\n\ndf = DataFrame(names=shortlabels,medtimes=medtimes,relmedtimes=(medtimes/medtimes[1]),avgtimes=avgtimes, std=stdtimes, cv=stdtimes./avgtimes)"
      ],
      "metadata": {},
      "execution_count": null
    },
    {
      "cell_type": "markdown",
      "source": [
        "# Plotting"
      ],
      "metadata": {}
    },
    {
      "outputs": [],
      "cell_type": "code",
      "source": [
        "sa = [text(string(round(mt,digits=3),\"s\"),:center,12) for mt in df.medtimes]\nbar(df.names,df.relmedtimes,legend=:false, fmt=fmt)\nscatter!(df.names, .05 .+ df.relmedtimes, markeralpha=0, series_annotations=sa, fmt=fmt)\nylabel!(\"median relative to Direct\")\ntitle!(\"Multistate Model\")"
      ],
      "metadata": {},
      "execution_count": null
    },
    {
      "outputs": [],
      "cell_type": "code",
      "source": [
        "using DiffEqBenchmarks\nDiffEqBenchmarks.bench_footer(WEAVE_ARGS[:folder],WEAVE_ARGS[:file])"
      ],
      "metadata": {},
      "execution_count": null
    }
  ],
  "nbformat_minor": 2,
  "metadata": {
    "language_info": {
      "file_extension": ".jl",
      "mimetype": "application/julia",
      "name": "julia",
      "version": "1.1.0"
    },
    "kernelspec": {
      "name": "julia-1.1",
      "display_name": "Julia 1.1.0",
      "language": "julia"
    }
  },
  "nbformat": 4
}
